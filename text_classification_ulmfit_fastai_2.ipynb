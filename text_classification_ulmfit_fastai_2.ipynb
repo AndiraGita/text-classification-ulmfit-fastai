{
  "nbformat": 4,
  "nbformat_minor": 0,
  "metadata": {
    "colab": {
      "name": "text_classification_ulmfit_fastai.ipynb",
      "version": "0.3.2",
      "provenance": []
    },
    "kernelspec": {
      "display_name": "Python 3",
      "language": "python",
      "name": "python3"
    }
  },
  "cells": [
    {
      "metadata": {
        "id": "rPTkCNgccvmw",
        "colab_type": "text"
      },
      "cell_type": "markdown",
      "source": [
        "# Tutorial on Text Classification (NLP) using ULMFiT and fastai Library in Python\n",
        "links https://www.analyticsvidhya.com/blog/2018/11/tutorial-text-classification-ulmfit-fastai-library/"
      ]
    },
    {
      "metadata": {
        "id": "aJIIADNEcvm9",
        "colab_type": "text"
      },
      "cell_type": "markdown",
      "source": [
        "#### 1. Import the libraries"
      ]
    },
    {
      "metadata": {
        "id": "Zufg0mrdcvnB",
        "colab_type": "code",
        "colab": {}
      },
      "cell_type": "code",
      "source": [
        "import fastai\n",
        "from fastai import *\n",
        "from fastai.text import * \n",
        "import pandas as pd\n",
        "import numpy as np\n",
        "from functools import partial\n",
        "import io\n",
        "import os"
      ],
      "execution_count": 0,
      "outputs": []
    },
    {
      "metadata": {
        "id": "YV0tD7gNcvni",
        "colab_type": "text"
      },
      "cell_type": "markdown",
      "source": [
        "#### 2. Import dataset yang ada di sklearn untuk klasifikasi"
      ]
    },
    {
      "metadata": {
        "id": "8SBNtdcscvnr",
        "colab_type": "code",
        "colab": {}
      },
      "cell_type": "code",
      "source": [
        "from sklearn.datasets import fetch_20newsgroups\n",
        "dataset = fetch_20newsgroups(shuffle=True, random_state=1, remove=('headers', 'footers', 'quotes'))\n",
        "documents = dataset.data"
      ],
      "execution_count": 0,
      "outputs": []
    },
    {
      "metadata": {
        "id": "fzeofUJYcvoC",
        "colab_type": "text"
      },
      "cell_type": "markdown",
      "source": [
        "bikin dataframe dan cek shape nya. label sebagai label dari teks, teks itu isi artikelnya."
      ]
    },
    {
      "metadata": {
        "id": "JF_Ex7kfcvoJ",
        "colab_type": "code",
        "colab": {}
      },
      "cell_type": "code",
      "source": [
        "df = pd.DataFrame({'label':dataset.target, 'text':dataset.data})"
      ],
      "execution_count": 0,
      "outputs": []
    },
    {
      "metadata": {
        "id": "PFkMwqCkcvod",
        "colab_type": "code",
        "colab": {
          "base_uri": "https://localhost:8080/",
          "height": 1192
        },
        "outputId": "ab8d6b96-60ae-4aff-f154-1de432484e43"
      },
      "cell_type": "code",
      "source": [
        "print(df)"
      ],
      "execution_count": 6,
      "outputs": [
        {
          "output_type": "stream",
          "text": [
            "       label                                               text\n",
            "0         17  Well i'm not sure about the story nad it did s...\n",
            "1          0  \\n\\n\\n\\n\\n\\n\\nYeah, do you expect people to re...\n",
            "2         17  Although I realize that principle is not one o...\n",
            "3         11  Notwithstanding all the legitimate fuss about ...\n",
            "4         10  Well, I will have to change the scoring on my ...\n",
            "5         15   \\n \\nI read somewhere, I think in Morton Smit...\n",
            "6          4  \\nOk.  I have a record that shows a IIsi with ...\n",
            "7         17  \\n\\n\\nSounds like wishful guessing.\\n\\n\\n\\n\\n'...\n",
            "8         13   Nobody is saying that you shouldn't be allowe...\n",
            "9         12  \\n  I was wondering if anyone can shed any lig...\n",
            "10         1  Archive-name: graphics/resources-list/part1\\nL...\n",
            "11         6  I have a Roberto Clemente 1969 Topps baseball ...\n",
            "12        13  \\n\\n\"Diet Evangelist\".  Good term.  Fits Atkin...\n",
            "13        15  Hi Damon,  No matter what system or explanatio...\n",
            "14         4  The title says it all.  I need to know the 44,...\n",
            "15        11  \\nCan't we move the political bickering to a m...\n",
            "16        11  Exactly.\\n\\nBut I'll add another observation: ...\n",
            "17        10  \\nAnd of course, Mike Ramsey was (at one time)...\n",
            "18        12  In Texas (Well, Corpus Christi anyway) if you ...\n",
            "19        19  \\n   I'm sorry, I thought we were discussing h...\n",
            "20        12  \\n\\n\\n\\n\\tI'd like to see this info as well.  ...\n",
            "21        12  Just a shot here, but ya never know:\\n\\nI once...\n",
            "22        16  \\nThere is a (likely) veto proof majority in t...\n",
            "23        16  \\n\\n\\n\\n\"Put not your trust in princes\" is the...\n",
            "24        10  As I promised, I would give you the name of th...\n",
            "25        15  The concept of God as a teacher is indeed inte...\n",
            "26         6  \\nIt really doesn't strike me as very funny. I...\n",
            "27        11  \\n\\nI don't know, but I'm as willing to specul...\n",
            "28        10  GAME(S) OF 4/15\\n---------------\\nADIRONDACK 6...\n",
            "29         8  \\nYes!  Up the coast, over to Portland, then u...\n",
            "...      ...                                                ...\n",
            "11284      5                                                ...\n",
            "11285      8                  \\nLike, there's a FAQ for this?\\n\n",
            "11286      7  REQUEST FOR DISCUSSION\\n\\nThis is a request fo...\n",
            "11287     15  Pardon me if this is the wrong newsgroup.  I w...\n",
            "11288      1  Hi there,\\n\\nis there anybody who know a polyg...\n",
            "11289      9  Since someone brought up sports radio, howabou...\n",
            "11290     16   \\n[...]\\n \\n      Well, chalk one up for driv...\n",
            "11291      5  (please respond via email!)\\n\\nHas anybody act...\n",
            "11292      2  Greetings!\\n   \\nI've had a bunch of problems ...\n",
            "11293      2  \\n@===@                                       ...\n",
            "11294     12  I had a catalog with membrane keypads, but I d...\n",
            "11295      8  Oh boy, a little K-bike versus /2 scuffling? G...\n",
            "11296     13  Hello to everybody,\\nI write here because I am...\n",
            "11297     13  [reply to todamhyp@charles.unlv.edu (Brian M. ...\n",
            "11298     16  This is exactly what I have heard before.  If ...\n",
            "11299     11  \\nWhats the difference between a V.32bis modem...\n",
            "11300      0  [why do babies get diseases, etc.]\\n\\n Here's ...\n",
            "11301      4  I would like to know what people's opinions ar...\n",
            "11302     10  You might want to clarify the 11 game winning ...\n",
            "11303     15  \\nI totally agree with that sentiment.  But wh...\n",
            "11304     15  \\nI agree with what Darren has to say here, bu...\n",
            "11305      6  Ok people, I really need to sell this sampler ...\n",
            "11306      5  Hi,\\n\\n  I am trying to write an X-windows bas...\n",
            "11307     15  I'd like to share my thoughts on this topic of...\n",
            "11308      7  My sunroof leaks.  I've always thought those t...\n",
            "11309     17  Danny Rubenstein, an Israeli journalist, will ...\n",
            "11310     13                                                 \\n\n",
            "11311      9  \\nI agree.  Home runs off Clemens are always m...\n",
            "11312      4  I used HP DeskJet with Orange Micros Grappler ...\n",
            "11313      9                                        ^^^^^^\\n...\n",
            "\n",
            "[11314 rows x 2 columns]\n"
          ],
          "name": "stdout"
        }
      ]
    },
    {
      "metadata": {
        "id": "TliKYUHdcvoS",
        "colab_type": "code",
        "colab": {
          "base_uri": "https://localhost:8080/",
          "height": 35
        },
        "outputId": "cfad5c61-a964-4d91-8740-7d60251645e0"
      },
      "cell_type": "code",
      "source": [
        "df.shape"
      ],
      "execution_count": 5,
      "outputs": [
        {
          "output_type": "execute_result",
          "data": {
            "text/plain": [
              "(11314, 2)"
            ]
          },
          "metadata": {
            "tags": []
          },
          "execution_count": 5
        }
      ]
    },
    {
      "metadata": {
        "id": "i9lyLMf1cvou",
        "colab_type": "text"
      },
      "cell_type": "markdown",
      "source": [
        "supaya bisa jadi binary classification, cuma pilih 2 label, yaitu 1 dan 10"
      ]
    },
    {
      "metadata": {
        "id": "aWJdqdKwcvoy",
        "colab_type": "code",
        "colab": {}
      },
      "cell_type": "code",
      "source": [
        "df = df[df['label'].isin([1,10])]\n",
        "df = df.reset_index(drop = True)"
      ],
      "execution_count": 0,
      "outputs": []
    },
    {
      "metadata": {
        "id": "CiO3Au8OcvpL",
        "colab_type": "code",
        "colab": {
          "base_uri": "https://localhost:8080/",
          "height": 72
        },
        "outputId": "9ec65052-b853-41ca-9ea6-6f6e0fa642f1"
      },
      "cell_type": "code",
      "source": [
        "df['label'].value_counts()"
      ],
      "execution_count": 8,
      "outputs": [
        {
          "output_type": "execute_result",
          "data": {
            "text/plain": [
              "10    600\n",
              "1     584\n",
              "Name: label, dtype: int64"
            ]
          },
          "metadata": {
            "tags": []
          },
          "execution_count": 8
        }
      ]
    },
    {
      "metadata": {
        "id": "WFUN9SOAcvpx",
        "colab_type": "text"
      },
      "cell_type": "markdown",
      "source": [
        "#### 3. Preprocessing data"
      ]
    },
    {
      "metadata": {
        "id": "Rqb26S13cvp0",
        "colab_type": "text"
      },
      "cell_type": "markdown",
      "source": [
        "a. buat teks nya, cuma select huruf"
      ]
    },
    {
      "metadata": {
        "id": "7V_cmQIbcvp5",
        "colab_type": "code",
        "colab": {}
      },
      "cell_type": "code",
      "source": [
        "df['text'] = df['text'].str.replace(\"[^a-zA-Z]\", \" \")"
      ],
      "execution_count": 0,
      "outputs": []
    },
    {
      "metadata": {
        "id": "bACtn0HIcvqC",
        "colab_type": "text"
      },
      "cell_type": "markdown",
      "source": [
        "b. download stop words"
      ]
    },
    {
      "metadata": {
        "id": "fUS0Q-DecvqS",
        "colab_type": "code",
        "colab": {
          "base_uri": "https://localhost:8080/",
          "height": 54
        },
        "outputId": "553eec9c-6520-499f-a7c8-620b9316082e"
      },
      "cell_type": "code",
      "source": [
        "#from nltk.corpus import stopwords \n",
        "#stop_words = stopwords.words('english')\n",
        "import nltk\n",
        "nltk.download('stopwords')\n",
        "stop_words = nltk.corpus.stopwords.words('english')"
      ],
      "execution_count": 17,
      "outputs": [
        {
          "output_type": "stream",
          "text": [
            "[nltk_data] Downloading package stopwords to /root/nltk_data...\n",
            "[nltk_data]   Package stopwords is already up-to-date!\n"
          ],
          "name": "stdout"
        }
      ]
    },
    {
      "metadata": {
        "id": "0ktecff2cvqe",
        "colab_type": "text"
      },
      "cell_type": "markdown",
      "source": [
        "c. tokenization, remove stop-words, de-tokenization"
      ]
    },
    {
      "metadata": {
        "id": "LmY5FGymcvqj",
        "colab_type": "code",
        "colab": {}
      },
      "cell_type": "code",
      "source": [
        "# tokenization \n",
        "tokenized_doc = df['text'].apply(lambda x: x.split())\n",
        "\n",
        "# remove stop-words \n",
        "tokenized_doc = tokenized_doc.apply(lambda x: [item for item in x if item not in stop_words])\n",
        "\n",
        "# de-tokenization \n",
        "detokenized_doc = [] \n",
        "for i in range(len(df)): \n",
        "    t = ' '.join(tokenized_doc[i]) \n",
        "    detokenized_doc.append(t) \n",
        "\n",
        "df['text'] = detokenized_doc"
      ],
      "execution_count": 0,
      "outputs": []
    },
    {
      "metadata": {
        "id": "BYoK0iiEcvqx",
        "colab_type": "text"
      },
      "cell_type": "markdown",
      "source": [
        "#### 4. Split dataset"
      ]
    },
    {
      "metadata": {
        "id": "-2p3TSVRcvq1",
        "colab_type": "code",
        "colab": {}
      },
      "cell_type": "code",
      "source": [
        "from sklearn.model_selection import train_test_split\n",
        "\n",
        "# split data into training and validation set\n",
        "df_trn, df_val = train_test_split(df, stratify = df['label'], test_size = 0.4, random_state = 28)"
      ],
      "execution_count": 0,
      "outputs": []
    },
    {
      "metadata": {
        "id": "Ww8ZEYWscvq9",
        "colab_type": "text"
      },
      "cell_type": "markdown",
      "source": [
        "cek shape nya"
      ]
    },
    {
      "metadata": {
        "id": "jlpSikrwcvrm",
        "colab_type": "text"
      },
      "cell_type": "markdown",
      "source": [
        "#### 5. Siapkan language model sama classifier"
      ]
    },
    {
      "metadata": {
        "id": "72P9DBp4cvrs",
        "colab_type": "code",
        "colab": {
          "base_uri": "https://localhost:8080/",
          "height": 191
        },
        "outputId": "d9de2c5f-a671-4de3-b959-ecc428087142"
      },
      "cell_type": "code",
      "source": [
        "# preview of my system\n",
        "from fastai.utils import show_install\n",
        "show_install()"
      ],
      "execution_count": 24,
      "outputs": [
        {
          "output_type": "error",
          "ename": "TypeError",
          "evalue": "ignored",
          "traceback": [
            "\u001b[0;31m---------------------------------------------------------------------------\u001b[0m",
            "\u001b[0;31mTypeError\u001b[0m                                 Traceback (most recent call last)",
            "\u001b[0;32m<ipython-input-24-a7ec1681313f>\u001b[0m in \u001b[0;36m<module>\u001b[0;34m()\u001b[0m\n\u001b[1;32m      1\u001b[0m \u001b[0;32mfrom\u001b[0m \u001b[0mfastai\u001b[0m\u001b[0;34m.\u001b[0m\u001b[0mutils\u001b[0m \u001b[0;32mimport\u001b[0m \u001b[0mshow_install\u001b[0m\u001b[0;34m\u001b[0m\u001b[0;34m\u001b[0m\u001b[0m\n\u001b[0;32m----> 2\u001b[0;31m \u001b[0mshow_install\u001b[0m\u001b[0;34m(\u001b[0m\u001b[0;34m)\u001b[0m\u001b[0;34m\u001b[0m\u001b[0;34m\u001b[0m\u001b[0m\n\u001b[0m",
            "\u001b[0;31mTypeError\u001b[0m: 'module' object is not callable"
          ]
        }
      ]
    },
    {
      "metadata": {
        "id": "kP6XxKNqcvrS",
        "colab_type": "code",
        "colab": {
          "base_uri": "https://localhost:8080/",
          "height": 35
        },
        "outputId": "14773c41-5819-44cd-e8b3-c378df8c4696"
      },
      "cell_type": "code",
      "source": [
        "print(type(df_trn['label'][0]))"
      ],
      "execution_count": 25,
      "outputs": [
        {
          "output_type": "stream",
          "text": [
            "<class 'numpy.int64'>\n"
          ],
          "name": "stdout"
        }
      ]
    },
    {
      "metadata": {
        "id": "4SCReuJWcvr_",
        "colab_type": "code",
        "colab": {}
      },
      "cell_type": "code",
      "source": [
        "# Language model data\n",
        "data_lm = TextLMDataBunch.from_df(path=\"\", train_df = df_trn, valid_df = df_val)"
      ],
      "execution_count": 0,
      "outputs": []
    },
    {
      "metadata": {
        "id": "lSBCiXcscvsN",
        "colab_type": "code",
        "colab": {}
      },
      "cell_type": "code",
      "source": [
        "\n",
        "# Classifier model data\n",
        "data_clas = TextClasDataBunch.from_df(path = \"\", train_df = df_trn, valid_df = df_val, vocab=data_lm.train_ds.vocab, bs=32)"
      ],
      "execution_count": 0,
      "outputs": []
    },
    {
      "metadata": {
        "id": "TT6pVy4pcvsX",
        "colab_type": "text"
      },
      "cell_type": "markdown",
      "source": [
        "#### 6. Fine tuning"
      ]
    },
    {
      "metadata": {
        "id": "XrKpH3I6cvsh",
        "colab_type": "code",
        "colab": {}
      },
      "cell_type": "code",
      "source": [
        "learn = language_model_learner(data_lm, AWD_LSTM, pretrained=True, drop_mult=0.5)"
      ],
      "execution_count": 0,
      "outputs": []
    },
    {
      "metadata": {
        "id": "Jh-E-n8_cvsq",
        "colab_type": "code",
        "colab": {
          "base_uri": "https://localhost:8080/",
          "height": 95
        },
        "outputId": "0e163f9a-35b9-4b42-b50d-d5c7086448f1"
      },
      "cell_type": "code",
      "source": [
        "# train the learner object with learning rate = 1e-2\n",
        "learn.fit_one_cycle(1, 1e-2)"
      ],
      "execution_count": 56,
      "outputs": [
        {
          "output_type": "display_data",
          "data": {
            "text/html": [
              "Total time: 05:45 <p><table style='width:300px; margin-bottom:10px'>\n",
              "  <tr>\n",
              "    <th>epoch</th>\n",
              "    <th>train_loss</th>\n",
              "    <th>valid_loss</th>\n",
              "    <th>accuracy</th>\n",
              "  </tr>\n",
              "  <tr>\n",
              "    <th>1</th>\n",
              "    <th>6.722739</th>\n",
              "    <th>5.385423</th>\n",
              "    <th>0.247628</th>\n",
              "  </tr>\n",
              "</table>\n"
            ],
            "text/plain": [
              "<IPython.core.display.HTML object>"
            ]
          },
          "metadata": {
            "tags": []
          }
        }
      ]
    },
    {
      "metadata": {
        "id": "okmqWn2kcvq_",
        "colab_type": "code",
        "colab": {
          "base_uri": "https://localhost:8080/",
          "height": 35
        },
        "outputId": "712673f3-1a78-41ca-c897-3fdf92546574"
      },
      "cell_type": "code",
      "source": [
        "df_trn.shape, df_val.shape"
      ],
      "execution_count": 57,
      "outputs": [
        {
          "output_type": "execute_result",
          "data": {
            "text/plain": [
              "((710, 2), (474, 2))"
            ]
          },
          "metadata": {
            "tags": []
          },
          "execution_count": 57
        }
      ]
    },
    {
      "metadata": {
        "id": "RBvx9fRacvs5",
        "colab_type": "code",
        "colab": {},
        "outputId": "d9719760-e8ea-4e77-c179-c3b62a1e914b"
      },
      "cell_type": "code",
      "source": [
        "learn.lr_find()\n",
        "learn.recorder.plot()"
      ],
      "execution_count": 0,
      "outputs": [
        {
          "output_type": "stream",
          "text": [
            "LR Finder is complete, type {learner_name}.recorder.plot() to see the graph.\n"
          ],
          "name": "stdout"
        },
        {
          "output_type": "display_data",
          "data": {
            "image/png": "[encoded data removed]",
            "text/plain": [
              "<Figure size 432x288 with 1 Axes>"
            ]
          },
          "metadata": {
            "tags": []
          }
        }
      ]
    },
    {
      "metadata": {
        "id": "rj3QOsENcvtF",
        "colab_type": "text"
      },
      "cell_type": "markdown",
      "source": [
        "save encoder buat classifier"
      ]
    },
    {
      "metadata": {
        "id": "zIDx50kacvtP",
        "colab_type": "code",
        "colab": {}
      },
      "cell_type": "code",
      "source": [
        "learn.save_encoder('ft_enc')"
      ],
      "execution_count": 0,
      "outputs": []
    },
    {
      "metadata": {
        "id": "Jc7ynbzecvtZ",
        "colab_type": "text"
      },
      "cell_type": "markdown",
      "source": [
        "pakai data_clas untuk fine-tuning"
      ]
    },
    {
      "metadata": {
        "id": "Q80qZP81cvtc",
        "colab_type": "code",
        "colab": {}
      },
      "cell_type": "code",
      "source": [
        "learn = text_classifier_learner(data_clas, AWD_LSTM, drop_mult=0.7)\n",
        "learn.load_encoder('ft_enc')"
      ],
      "execution_count": 0,
      "outputs": []
    },
    {
      "metadata": {
        "id": "oB69JsOKcvtu",
        "colab_type": "text"
      },
      "cell_type": "markdown",
      "source": [
        "fit the model"
      ]
    },
    {
      "metadata": {
        "id": "jJjveeBYcvtw",
        "colab_type": "code",
        "colab": {}
      },
      "cell_type": "code",
      "source": [
        ""
      ],
      "execution_count": 0,
      "outputs": []
    },
    {
      "metadata": {
        "id": "M7L8CD2ccvt2",
        "colab_type": "code",
        "colab": {
          "base_uri": "https://localhost:8080/",
          "height": 95
        },
        "outputId": "de8c6df4-3c05-49c1-eac9-8fc4a3be5681"
      },
      "cell_type": "code",
      "source": [
        "learn.fit_one_cycle(1, 1e-2)"
      ],
      "execution_count": 61,
      "outputs": [
        {
          "output_type": "display_data",
          "data": {
            "text/html": [
              "Total time: 15:48 <p><table style='width:300px; margin-bottom:10px'>\n",
              "  <tr>\n",
              "    <th>epoch</th>\n",
              "    <th>train_loss</th>\n",
              "    <th>valid_loss</th>\n",
              "    <th>accuracy</th>\n",
              "  </tr>\n",
              "  <tr>\n",
              "    <th>1</th>\n",
              "    <th>0.572145</th>\n",
              "    <th>0.349489</th>\n",
              "    <th>0.905063</th>\n",
              "  </tr>\n",
              "</table>\n"
            ],
            "text/plain": [
              "<IPython.core.display.HTML object>"
            ]
          },
          "metadata": {
            "tags": []
          }
        }
      ]
    },
    {
      "metadata": {
        "id": "lomn0KURcvt_",
        "colab_type": "text"
      },
      "cell_type": "markdown",
      "source": [
        "#### get prediction"
      ]
    },
    {
      "metadata": {
        "id": "gLv9WXhacvuB",
        "colab_type": "code",
        "colab": {
          "base_uri": "https://localhost:8080/",
          "height": 143
        },
        "outputId": "4706f2ab-3c67-464f-9845-8cd9af1c6571"
      },
      "cell_type": "code",
      "source": [
        "# get predictions\n",
        "preds, targets = learn.get_preds()\n",
        "\n",
        "predictions = np.argmax(preds, axis = 1)\n",
        "pd.crosstab(predictions, targets)"
      ],
      "execution_count": 62,
      "outputs": [
        {
          "output_type": "execute_result",
          "data": {
            "text/html": [
              "<div>\n",
              "<style scoped>\n",
              "    .dataframe tbody tr th:only-of-type {\n",
              "        vertical-align: middle;\n",
              "    }\n",
              "\n",
              "    .dataframe tbody tr th {\n",
              "        vertical-align: top;\n",
              "    }\n",
              "\n",
              "    .dataframe thead th {\n",
              "        text-align: right;\n",
              "    }\n",
              "</style>\n",
              "<table border=\"1\" class=\"dataframe\">\n",
              "  <thead>\n",
              "    <tr style=\"text-align: right;\">\n",
              "      <th>col_0</th>\n",
              "      <th>0</th>\n",
              "      <th>1</th>\n",
              "    </tr>\n",
              "    <tr>\n",
              "      <th>row_0</th>\n",
              "      <th></th>\n",
              "      <th></th>\n",
              "    </tr>\n",
              "  </thead>\n",
              "  <tbody>\n",
              "    <tr>\n",
              "      <th>0</th>\n",
              "      <td>219</td>\n",
              "      <td>30</td>\n",
              "    </tr>\n",
              "    <tr>\n",
              "      <th>1</th>\n",
              "      <td>15</td>\n",
              "      <td>210</td>\n",
              "    </tr>\n",
              "  </tbody>\n",
              "</table>\n",
              "</div>"
            ],
            "text/plain": [
              "col_0    0    1\n",
              "row_0          \n",
              "0      219   30\n",
              "1       15  210"
            ]
          },
          "metadata": {
            "tags": []
          },
          "execution_count": 62
        }
      ]
    },
    {
      "metadata": {
        "id": "virba99dcvuO",
        "colab_type": "code",
        "colab": {}
      },
      "cell_type": "code",
      "source": [
        ""
      ],
      "execution_count": 0,
      "outputs": []
    }
  ]
}